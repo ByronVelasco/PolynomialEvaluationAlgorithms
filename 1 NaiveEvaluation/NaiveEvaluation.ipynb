{
 "cells": [
  {
   "cell_type": "markdown",
   "id": "5522b887",
   "metadata": {},
   "source": [
    "## Naive Polynomial Evaluation"
   ]
  },
  {
   "cell_type": "code",
   "execution_count": null,
   "id": "3ef9d0b4",
   "metadata": {},
   "outputs": [],
   "source": [
    "def NaiveEvaluation(coeff, x):\n",
    "  n = len(coeff)\n",
    "  result = 0\n",
    "  for i in range(n):\n",
    "    result += coeff[i] * (x ** i)\n",
    "  return result"
   ]
  }
 ],
 "metadata": {
  "kernelspec": {
   "display_name": "Python 3",
   "language": "python",
   "name": "python3"
  },
  "language_info": {
   "codemirror_mode": {
    "name": "ipython",
    "version": 3
   },
   "file_extension": ".py",
   "mimetype": "text/x-python",
   "name": "python",
   "nbconvert_exporter": "python",
   "pygments_lexer": "ipython3",
   "version": "3.12.3"
  }
 },
 "nbformat": 4,
 "nbformat_minor": 5
}
