{
 "cells": [
  {
   "cell_type": "markdown",
   "id": "5522b887",
   "metadata": {},
   "source": [
    "## Horner's Rule"
   ]
  },
  {
   "cell_type": "code",
   "execution_count": null,
   "id": "3ef9d0b4",
   "metadata": {},
   "outputs": [],
   "source": [
    "def HornerRule(coeff, x):\n",
    "  \"\"\"\n",
    "  Horner's rule for evaluating a polynomial at a given point.\n",
    "  \n",
    "  Parameters:\n",
    "  coeff (list): Coefficients of the polynomial.\n",
    "  x (float): The point at which to evaluate the polynomial.\n",
    "  \n",
    "  Returns:\n",
    "  float: The value of the polynomial at x.\n",
    "  \"\"\"\n",
    "  result = 0\n",
    "  for i in range(len(coeff)-1, -1, -1):\n",
    "    result = result * x + coeff[i]\n",
    "  return result"
   ]
  }
 ],
 "metadata": {
  "kernelspec": {
   "display_name": "Python 3",
   "language": "python",
   "name": "python3"
  },
  "language_info": {
   "codemirror_mode": {
    "name": "ipython",
    "version": 3
   },
   "file_extension": ".py",
   "mimetype": "text/x-python",
   "name": "python",
   "nbconvert_exporter": "python",
   "pygments_lexer": "ipython3",
   "version": "3.12.3"
  }
 },
 "nbformat": 4,
 "nbformat_minor": 5
}
