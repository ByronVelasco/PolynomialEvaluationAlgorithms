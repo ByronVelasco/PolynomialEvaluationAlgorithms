{
 "cells": [
  {
   "cell_type": "markdown",
   "id": "dd09f244",
   "metadata": {},
   "source": [
    "# **Algorithm Design, Implementation, and Performance Analysis**\n",
    "\n",
    "## **1. Algorithm Design and Implementation**\n",
    "\n",
    "### **1.1 Naive Polynomial Evaluation**\n",
    "\n",
    "Naive polynomial evaluation computes the value of a polynomial at a given point by directly substituting the value into the polynomial and calculating each term separately. For a polynomial of degree n, this approach requires evaluating each power of the variable and multiplying it by the corresponding coefficient, then summing all terms. This method is straightforward but can be inefficient for high-degree polynomials due to repeated calculations of powers.\n",
    "\n",
    "For simplicity, we represent $P_n(x)=a_0+a_1x+a_2x^2+\\dots+a_nx^n$\n",
    "\n",
    "#### **1.1.1 Algorithm Design**"
   ]
  },
  {
   "cell_type": "code",
   "execution_count": 12,
   "id": "85bb1383",
   "metadata": {},
   "outputs": [],
   "source": [
    "def naive_evaluation(coef, x):\n",
    "\t\n",
    "\tdegree = len(coef) - 1 # Calculate the degree of the polynomial (highest power)\n",
    "\tresult = 0 # Initialize the result accumulator\n",
    "\t\n",
    "\t# Loop through each coefficient and corresponding power of x\n",
    "\tfor i in range(degree + 1):\n",
    "\t\tresult += coef[i] * (x ** i) # Multiply the coefficient by x raised to the current power and add to result\n",
    "\t\n",
    "\treturn result # Return the final evaluated value"
   ]
  },
  {
   "cell_type": "markdown",
   "id": "629397ad",
   "metadata": {},
   "source": [
    "#### **1.1.2 Functionality Demonstration with a Random List of Coefficients**\n",
    "\n",
    "We will demonstrate the functionality of the `naive_evaluation` algorithm by applying it to a randomly generated list of coefficients. The random list of coefficients is displayed as $[a_0, a_1, \\dots, a_n]$, and the evaluation is shown afterward."
   ]
  },
  {
   "cell_type": "code",
   "execution_count": 13,
   "id": "7cc6756f",
   "metadata": {},
   "outputs": [
    {
     "name": "stdout",
     "output_type": "stream",
     "text": [
      "Polynomial coefficients: [-3, 3, -4, 0, -3, 4]\n",
      "P(3) = 699\n"
     ]
    }
   ],
   "source": [
    "import random\n",
    "\n",
    "coef = [random.randint(-5, 5) for _ in range(6)]\n",
    "x = 3\n",
    "print(f'Polynomial coefficients: {coef}')\n",
    "print(f'P({x}) = {naive_evaluation(coef, x)}')"
   ]
  },
  {
   "cell_type": "markdown",
   "id": "ba33f6cc",
   "metadata": {},
   "source": [
    "### **1.2 Horner's Rule**\n",
    "\n",
    "Horner's Rule is an efficient algorithm for evaluating polynomials. Instead of computing each term's power separately, it rewrites the polynomial in a nested form to minimize the number of multiplications. For a polynomial $P_n(x) = a_0 + a_1x + a_2x^2 + \\dots + a_nx^n$, Horner's Rule expresses it as $P_n(x) = a_0 + x(a_1 + x(a_2 + \\dots + x(a_{n-1} + x a_n)))$. This approach reduces computational complexity and improves numerical stability.\n",
    "\n",
    "#### **1.2.1 Algorithm Design**"
   ]
  },
  {
   "cell_type": "code",
   "execution_count": 14,
   "id": "ee549ed2",
   "metadata": {},
   "outputs": [],
   "source": [
    "def horner_rule(coef, x):\n",
    "\tdegree = len(coef) - 1 # Calculate the degree of the polynomial (highest power)\n",
    "\tresult = 0 # Initialize the result accumulator\n",
    "\t\n",
    "\t# Loop through the coefficients in reverse order (from highest degree to lowest)\n",
    "\tfor i in range(degree, -1, -1):\n",
    "\t\tresult = result * x + coef[i] # Multiply the current result by x and add the current coefficient\n",
    "\t\n",
    "\treturn result # Return the final evaluated value"
   ]
  },
  {
   "cell_type": "markdown",
   "id": "f67bc295",
   "metadata": {},
   "source": [
    "#### **1.2.2 Functionality Demonstration with a Random List of Coefficients**\n",
    "\n",
    "We will demonstrate the functionality of the `horner_rule` algorithm by applying it to a randomly generated list of coefficients. The random list of coefficients is displayed as $[a_0, a_1, \\dots, a_n]$, and the evaluation is shown afterward."
   ]
  },
  {
   "cell_type": "code",
   "execution_count": 15,
   "id": "7e312544",
   "metadata": {},
   "outputs": [
    {
     "name": "stdout",
     "output_type": "stream",
     "text": [
      "Polynomial coefficients: [-2, 1, -4, -4, 1, -2]\n",
      "P(3) = -548\n"
     ]
    }
   ],
   "source": [
    "import random\n",
    "\n",
    "coef = [random.randint(-5, 5) for _ in range(6)]\n",
    "x = 3\n",
    "print(f'Polynomial coefficients: {coef}')\n",
    "print(f'P({x}) = {horner_rule(coef, x)}')"
   ]
  },
  {
   "cell_type": "markdown",
   "id": "1b544d4c",
   "metadata": {},
   "source": [
    "### **1.3 Validation of Correctness**\n",
    "\n",
    "We will validate the correctness of `naive_evaluation` and `horner_rule` algorithms by comparing the equality of their results."
   ]
  },
  {
   "cell_type": "code",
   "execution_count": 16,
   "id": "6a8584c3",
   "metadata": {},
   "outputs": [
    {
     "name": "stdout",
     "output_type": "stream",
     "text": [
      "Both algorithms give the same result\n"
     ]
    }
   ],
   "source": [
    "import random\n",
    "\n",
    "m = 1000  # Number of test cases to run\n",
    "test = True  # Flag to track if all tests pass\n",
    "\n",
    "# Loop over polynomial degrees from 1 to m\n",
    "for degree in range(1, m + 1):\n",
    "    x = random.randint(-10, 10)  # Randomly select a value for x in the range [-10, 10]\n",
    "    # Generate a random list of coefficients for a polynomial of degree n\n",
    "    coef = [random.randint(-degree, degree) for _ in range(degree + 1)]\n",
    "    # Compare the results of naive_evaluation and horner_rule\n",
    "    if naive_evaluation(coef, x) != horner_rule(coef, x):\n",
    "        print('Both algorithms do not give the same result')  # Print message if results differ\n",
    "        test = False  # Set flag to False if a mismatch is found\n",
    "        break  # Exit the loop on first failure\n",
    "\n",
    "# If all tests pass, print confirmation message\n",
    "if test:\n",
    "    print('Both algorithms give the same result')"
   ]
  },
  {
   "cell_type": "markdown",
   "id": "5bae306b",
   "metadata": {},
   "source": [
    "## **2. Experiment Block: Performance Comparison**\n",
    "### **2.1 Importing Libraries and Setting Up Paths**"
   ]
  },
  {
   "cell_type": "code",
   "execution_count": 17,
   "id": "2ea83cc9",
   "metadata": {},
   "outputs": [],
   "source": [
    "import random\n",
    "import time\n",
    "import matplotlib.pyplot as plt\n",
    "import os\n",
    "import sys\n",
    "\n",
    "sys.path.append(os.path.abspath(\"../img\"))"
   ]
  },
  {
   "cell_type": "markdown",
   "id": "ce48b783",
   "metadata": {},
   "source": [
    "### **2.2 Utility Functions for Performance Measurement and Visualization**"
   ]
  },
  {
   "cell_type": "code",
   "execution_count": 18,
   "id": "b2fa690b",
   "metadata": {},
   "outputs": [],
   "source": [
    "# Function that computes the execution time\n",
    "def execution_time(fun, *args):\n",
    "\t# Record the start time before the function call\n",
    "\tstart = time.time()\n",
    "\t\n",
    "\t# Call the function with the provided arguments\n",
    "\tfun(*args)\n",
    "\t\n",
    "\t# Record the end time after the function call\n",
    "\tend = time.time()\n",
    "\t\n",
    "\t# Return the difference between end and start times (execution duration)\n",
    "\treturn end - start\n",
    "\n",
    "\n",
    "# Function that compares execution time\n",
    "def comparison_machine(degrees, reps, algorithm):\n",
    "\t# Initialize a list to store total execution times for each algorithm\n",
    "\ttotal_time = [[] for _ in algorithm]\n",
    "\t\n",
    "\t# Loop through each degree in the list of degrees\n",
    "\tfor degree in degrees:\n",
    "\t\t# Initialize a list to store the cumulative execution time for each algorithm\n",
    "\t\tcumulative_time = [0 for _ in algorithm]\n",
    "\t\t\n",
    "\t\t# Repeat the experiment 'reps' times for each size\n",
    "\t\tfor _ in range(reps):\n",
    "\t\t\t# Generate a sample list of coefficients for the polynomial of the current degree\n",
    "\t\t\tcoefficients = [random.randint(-degree, degree) for _ in range(degree + 1)]\n",
    "\n",
    "\t\t\t# Generate a random value for x in the range [-10, 10]\n",
    "\t\t\tx = random.randint(-10, 10)\n",
    "\t\t\t\n",
    "\t\t\t# Loop through each algorithm and measure its execution time\n",
    "\t\t\tfor i, algo in enumerate(algorithm):\n",
    "\t\t\t\t# Measure the execution time of the algorithm and add it to the cumulative time\n",
    "\t\t\t\tcumulative_time[i] += execution_time(algo, coefficients, x)\n",
    "\t\t\n",
    "\t\t# Calculate the average execution time for each algorithm and append it to total_times\n",
    "\t\tfor i, t in enumerate(cumulative_time):\n",
    "\t\t\ttotal_time[i].append(t / reps)\n",
    "\t\n",
    "\t# Return the list of average execution times for each algorithm\n",
    "\treturn total_time\n",
    "\n",
    "\n",
    "# Function that plots the results\n",
    "def comparison_graph(degrees, t, algorithm):\n",
    "\t# Create the plot\n",
    "\tfor i, algo in enumerate(algorithm):\n",
    "\t\t# Plot the execution times for each algorithm\n",
    "\t\tplt.plot(degrees, t[i], label=algo.__name__)\n",
    "\t\n",
    "\t# Plot features\n",
    "\tplt.title(f'Comparison plot') # Title\n",
    "\tplt.xlabel(\"Degree (n)\") # x-axis label\n",
    "\tplt.ylabel(\"Average time (s)\") # y-axis label\n",
    "\tplt.legend(loc='upper left') # show legend\n",
    "\n",
    "\t# Relative path to the 'img' folder from the notebook location\n",
    "\timg_path = os.path.join(\"..\", \"img\")\n",
    "\t\n",
    "\t# Ensure the 'img' folder exists; create it if it doesn't\n",
    "\tos.makedirs(img_path, exist_ok=True)\n",
    "\n",
    "\t# Save the graph to the 'img' folder\n",
    "\tfilename = os.path.join(img_path, f\"comparison.png\")\n",
    "\tplt.savefig(filename, bbox_inches=\"tight\")  # Save the plot with tight bounding box\n",
    "\tprint(f\"Graph saved to: {filename}\")  # Print the location of the saved graph\n",
    "\t\n",
    "\t# Display the plot\n",
    "\tplt.show()\n",
    "\n",
    "\n",
    "# Function that calls all the machinery\n",
    "def machine_call(degrees, reps, algorithm):\n",
    "\t# Call the comparison_machine function to compute execution times\n",
    "\tt = comparison_machine(degrees, reps, algorithm)\n",
    "\t\n",
    "\t# Call the comparison_graph function to plot the results\n",
    "\tcomparison_graph(degrees, t, algorithm)"
   ]
  },
  {
   "cell_type": "markdown",
   "id": "88bb25e5",
   "metadata": {},
   "source": [
    "### **2.3 Algorithms comparison**\n",
    "\n",
    "This part sets up and runs a performance comparison between the naive polynomial evaluation and Horner's rule. It defines the sample sizes (degrees), number of repetitions, and the algorithms to compare. Then, it calls the `machine_call` function to measure execution times for each algorithm across different polynomial degrees, generates a comparison plot, and saves the result."
   ]
  },
  {
   "cell_type": "code",
   "execution_count": 19,
   "id": "6fa89fd1",
   "metadata": {},
   "outputs": [
    {
     "name": "stdout",
     "output_type": "stream",
     "text": [
      "Graph saved to: ..\\img\\comparison.png\n"
     ]
    },
    {
     "data": {
      "image/png": "[encoded data removed]",
      "text/plain": [
       "<Figure size 640x480 with 1 Axes>"
      ]
     },
     "metadata": {},
     "output_type": "display_data"
    }
   ],
   "source": [
    "samples = 10  # Number of sample points (input degrees) to test\n",
    "step_size = 1000  # Step size for generating input sizes\n",
    "degrees = [i * step_size for i in range(1, samples + 1)]  # List of input degrees to test\n",
    "\n",
    "reps = 10  # Number of repetitions for each input degree to calculate average execution time\n",
    "\n",
    "algorithm = [naive_evaluation, horner_rule]  # List of algorithms to compare\n",
    "\n",
    "# Call the machine_call function to compute execution times and generate a comparison graph\n",
    "machine_call(degrees, reps, algorithm)"
   ]
  },
  {
   "cell_type": "markdown",
   "id": "bb935c5e",
   "metadata": {},
   "source": [
    "The performance comparison plot demonstrates that Horner's rule consistently outperforms the naive polynomial evaluation method as the degree of the polynomial increases. While both algorithms produce correct results, Horner's rule is significantly more efficient, exhibiting much lower execution times for high-degree polynomials. This highlights the importance of algorithmic optimization in computational mathematics, especially for large-scale problems."
   ]
  },
  {
   "cell_type": "markdown",
   "id": "2168662e",
   "metadata": {},
   "source": [
    "# **Conclusion**\n",
    "\n",
    "In this notebook, we explored and compared two algorithms for polynomial evaluation: the naive approach and Horner's rule. Through both correctness validation and extensive performance experiments, we demonstrated that while both methods yield the same results, Horner's rule is significantly more efficient, especially for polynomials of high degree. The performance plots clearly show that Horner's rule scales much better as the polynomial degree increases, highlighting the importance of algorithmic optimization in computational mathematics. This study underscores the value of choosing efficient algorithms to handle large-scale problems, ensuring both accuracy and computational feasibility."
   ]
  }
 ],
 "metadata": {
  "kernelspec": {
   "display_name": "Python 3",
   "language": "python",
   "name": "python3"
  },
  "language_info": {
   "codemirror_mode": {
    "name": "ipython",
    "version": 3
   },
   "file_extension": ".py",
   "mimetype": "text/x-python",
   "name": "python",
   "nbconvert_exporter": "python",
   "pygments_lexer": "ipython3",
   "version": "3.8.10"
  }
 },
 "nbformat": 4,
 "nbformat_minor": 5
}
