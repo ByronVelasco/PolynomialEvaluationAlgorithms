{
 "cells": [
  {
   "cell_type": "markdown",
   "id": "0acdaf0d",
   "metadata": {},
   "source": [
    "# **Importing block**\n",
    "Let's import algorithm `HornerRule`."
   ]
  },
  {
   "cell_type": "code",
   "execution_count": 2,
   "id": "67bf9e58",
   "metadata": {},
   "outputs": [],
   "source": [
    "import random\n",
    "import sys\n",
    "import os\n",
    "\n",
    "# Add relative paths to module folders\n",
    "sys.path.append(os.path.abspath(\"../2 HornerRule\"))\n",
    "\n",
    "from HornerRule import HornerRule"
   ]
  },
  {
   "cell_type": "markdown",
   "id": "be0a7513",
   "metadata": {},
   "source": [
    "# **Testing Block**\n",
    "Let's test `HornerRule` with a polynomial of grade `n=5` at point `x=2`."
   ]
  },
  {
   "cell_type": "code",
   "execution_count": 3,
   "id": "a68ae02f",
   "metadata": {},
   "outputs": [
    {
     "name": "stdout",
     "output_type": "stream",
     "text": [
      "Polynomial Coefficients: [-5, -8, 1, 0, -10, 0]\n",
      "Evaluation: P(2) = -177\n"
     ]
    }
   ],
   "source": [
    "n = 5\n",
    "x = 2\n",
    "\n",
    "coeff = [random.randint(-10, 10) for _ in range(n + 1)]\n",
    "print(f\"Polynomial Coefficients: {coeff}\")\n",
    "\n",
    "result = HornerRule(coeff, x)\n",
    "print(f\"Evaluation: P({x}) = {result}\")"
   ]
  }
 ],
 "metadata": {
  "kernelspec": {
   "display_name": "Python 3",
   "language": "python",
   "name": "python3"
  },
  "language_info": {
   "codemirror_mode": {
    "name": "ipython",
    "version": 3
   },
   "file_extension": ".py",
   "mimetype": "text/x-python",
   "name": "python",
   "nbconvert_exporter": "python",
   "pygments_lexer": "ipython3",
   "version": "3.12.3"
  }
 },
 "nbformat": 4,
 "nbformat_minor": 5
}
