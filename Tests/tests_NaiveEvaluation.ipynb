{
 "cells": [
  {
   "cell_type": "markdown",
   "id": "0acdaf0d",
   "metadata": {},
   "source": [
    "# Importing block\n",
    "Let's import algorithm `NaiveEvaluation`."
   ]
  },
  {
   "cell_type": "code",
   "execution_count": 5,
   "id": "67bf9e58",
   "metadata": {},
   "outputs": [],
   "source": [
    "import random\n",
    "import sys\n",
    "import os\n",
    "\n",
    "# Add relative paths to module folders\n",
    "sys.path.append(os.path.abspath(\"../1 NaiveEvaluation\"))\n",
    "\n",
    "from NaiveEvaluation import NaiveEvaluation"
   ]
  },
  {
   "cell_type": "markdown",
   "id": "be0a7513",
   "metadata": {},
   "source": [
    "# Testing Block\n",
    "Let's test `NaiveEvaluation` with a polynomial of grade `n=5` at point `x=2`."
   ]
  },
  {
   "cell_type": "code",
   "execution_count": 7,
   "id": "a68ae02f",
   "metadata": {},
   "outputs": [
    {
     "name": "stdout",
     "output_type": "stream",
     "text": [
      "Polynomial Coefficients: [-5, 6, 5, -3, 8, -3]\n",
      "Evaluation: P(2) = 35\n"
     ]
    }
   ],
   "source": [
    "n = 5\n",
    "x = 2\n",
    "\n",
    "coeff = [random.randint(-10, 10) for _ in range(n + 1)]\n",
    "print(f\"Polynomial Coefficients: {coeff}\")\n",
    "\n",
    "result = NaiveEvaluation(coeff, x)\n",
    "print(f\"Evaluation: P({x}) = {result}\")"
   ]
  }
 ],
 "metadata": {
  "kernelspec": {
   "display_name": "Python 3",
   "language": "python",
   "name": "python3"
  },
  "language_info": {
   "codemirror_mode": {
    "name": "ipython",
    "version": 3
   },
   "file_extension": ".py",
   "mimetype": "text/x-python",
   "name": "python",
   "nbconvert_exporter": "python",
   "pygments_lexer": "ipython3",
   "version": "3.12.3"
  }
 },
 "nbformat": 4,
 "nbformat_minor": 5
}
